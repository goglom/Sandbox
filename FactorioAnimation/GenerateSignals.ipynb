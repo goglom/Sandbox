{
 "cells": [
  {
   "cell_type": "code",
   "execution_count": 16,
   "metadata": {},
   "outputs": [],
   "source": [
    "import cv2 as cv\n",
    "import numpy as np"
   ]
  },
  {
   "cell_type": "code",
   "execution_count": null,
   "metadata": {},
   "outputs": [],
   "source": [
    "img = cv.imread('sample_1.bmp', cv.IMREAD_GRAYSCALE)\n",
    "\n",
    "for i in range(img.shape[0] - 8):\n",
    "    sub_sample = img[:, i + 8]\n",
    "    cv.imwrite(f'./samples/sub_sample_{i + 1}.bmp', sub_sample)"
   ]
  },
  {
   "cell_type": "code",
   "execution_count": 42,
   "metadata": {},
   "outputs": [
    {
     "name": "stdout",
     "output_type": "stream",
     "text": [
      "44691\n",
      "43154\n",
      "61074\n",
      "43154\n",
      "44763\n",
      "0\n",
      "0\n",
      "1\n"
     ]
    }
   ],
   "source": [
    "img = cv.imread('sample_1.bmp', cv.IMREAD_GRAYSCALE)\n",
    "\n",
    "def make_int(row):\n",
    "    bits = \"\".join(['1' if p else '0' for p in row])\n",
    "    return int(bits, 2)\n",
    "\n",
    "for row in img:\n",
    "    print(make_int(row == 0))\n",
    "    #print(int.from_bytes((row == 0), 'big', signed=True))\n"
   ]
  }
 ],
 "metadata": {
  "interpreter": {
   "hash": "cb3c2a364b214c6ffe2642e853d25ce1e83d451a57eea557fd0e3e886ac6e718"
  },
  "kernelspec": {
   "display_name": "Python 3.9.1 64-bit",
   "language": "python",
   "name": "python3"
  },
  "language_info": {
   "codemirror_mode": {
    "name": "ipython",
    "version": 3
   },
   "file_extension": ".py",
   "mimetype": "text/x-python",
   "name": "python",
   "nbconvert_exporter": "python",
   "pygments_lexer": "ipython3",
   "version": "3.9.1"
  },
  "orig_nbformat": 4
 },
 "nbformat": 4,
 "nbformat_minor": 2
}
